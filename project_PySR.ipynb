{
  "cells": [
    {
      "cell_type": "markdown",
      "metadata": {
        "id": "view-in-github",
        "colab_type": "text"
      },
      "source": [
        "<a href=\"https://colab.research.google.com/github/bhushanrajs/sciml_project/blob/main/project_PySR.ipynb\" target=\"_parent\"><img src=\"https://colab.research.google.com/assets/colab-badge.svg\" alt=\"Open In Colab\"/></a>"
      ]
    },
    {
      "cell_type": "markdown",
      "metadata": {
        "lines_to_next_cell": 0,
        "id": "gRbbfqK0GREg"
      },
      "source": [
        "# Sparse Identification of Nonlinear Dynamical systems (SINDy)"
      ],
      "id": "gRbbfqK0GREg"
    },
    {
      "cell_type": "code",
      "execution_count": null,
      "metadata": {
        "colab": {
          "base_uri": "https://localhost:8080/"
        },
        "id": "692bw2hzGREj",
        "outputId": "d5a008a1-f452-4197-f119-7b956a67f479"
      },
      "outputs": [
        {
          "output_type": "stream",
          "name": "stdout",
          "text": [
            "\u001b[?25l     \u001b[90m━━━━━━━━━━━━━━━━━━━━━━━━━━━━━━━━━━━━━━━━\u001b[0m \u001b[32m0.0/121.0 kB\u001b[0m \u001b[31m?\u001b[0m eta \u001b[36m-:--:--\u001b[0m\r\u001b[2K     \u001b[91m━━━━━━━━━━━━━━━━━━━━━━━━━━━━━━━━━━━━━\u001b[0m\u001b[90m╺\u001b[0m\u001b[90m━━\u001b[0m \u001b[32m112.6/121.0 kB\u001b[0m \u001b[31m4.1 MB/s\u001b[0m eta \u001b[36m0:00:01\u001b[0m\r\u001b[2K     \u001b[90m━━━━━━━━━━━━━━━━━━━━━━━━━━━━━━━━━━━━━━━━\u001b[0m \u001b[32m121.0/121.0 kB\u001b[0m \u001b[31m3.3 MB/s\u001b[0m eta \u001b[36m0:00:00\u001b[0m\n",
            "\u001b[?25h"
          ]
        }
      ],
      "source": [
        "!pip3 install pysindy --quiet"
      ],
      "id": "692bw2hzGREj"
    },
    {
      "cell_type": "code",
      "source": [
        "import pandas as pd\n",
        "import matplotlib.pyplot as plt\n",
        "from sklearn.model_selection import train_test_split\n",
        "import torch\n",
        "import torch.nn as nn\n",
        "import torch.optim as optim\n",
        "from tqdm.notebook import tqdm\n",
        "import numpy as np\n",
        "import pysindy as ps"
      ],
      "metadata": {
        "id": "8YvzVGTYOZlJ"
      },
      "id": "8YvzVGTYOZlJ",
      "execution_count": null,
      "outputs": []
    },
    {
      "cell_type": "code",
      "execution_count": null,
      "metadata": {
        "execution": {
          "iopub.execute_input": "2022-07-06T00:43:54.334793Z",
          "iopub.status.busy": "2022-07-06T00:43:54.334164Z",
          "iopub.status.idle": "2022-07-06T00:43:54.843135Z",
          "shell.execute_reply": "2022-07-06T00:43:54.842275Z"
        },
        "lines_to_next_cell": 2,
        "id": "lz-PV9nVGREp"
      },
      "outputs": [],
      "source": [
        "df = pd.read_csv('https://raw.githubusercontent.com/bhushanrajs/sciml_project/main/analysis_data.csv')\n",
        "\n",
        "tx_girders = {'Tx28' : {'D' : 28.0, 'b1' : 36.0, 'b2' : 7.0, 'b3' : 32.0, 'b4' : 2.0, 'b5' : 3.0, 'd1' : 3.5, 'd2' : 2.0, 'd3' : 2.0, 'd4' : 6.75, 'd5' : 3.0, 'd6' : 4.0, 'd7' : 6.75},\n",
        "              'Tx34' : {'D' : 34.0, 'b1' : 36.0, 'b2' : 7.0, 'b3' : 32.0, 'b4' : 2.0, 'b5' : 3.0, 'd1' : 3.5, 'd2' : 2.0, 'd3' : 2.0, 'd4' : 12.75, 'd5' : 3.0, 'd6' : 4.0, 'd7' : 6.75},\n",
        "              'Tx40' : {'D' : 40.0, 'b1' : 36.0, 'b2' : 7.0, 'b3' : 32.0, 'b4' : 2.0, 'b5' : 3.0, 'd1' : 3.5, 'd2' : 2.0, 'd3' : 2.0, 'd4' : 18.75, 'd5' : 3.0, 'd6' : 4.0, 'd7' : 6.75},\n",
        "              'Tx46' : {'D' : 46.0, 'b1' : 36.0, 'b2' : 7.0, 'b3' : 32.0, 'b4' : 2.0, 'b5' : 3.0, 'd1' : 3.5, 'd2' : 2.0, 'd3' : 2.0, 'd4' : 22.0, 'd5' : 3.0, 'd6' : 4.75, 'd7' : 8.75},\n",
        "              'Tx54' : {'D' : 54.0, 'b1' : 36.0, 'b2' : 7.0, 'b3' : 32.0, 'b4' : 2.0, 'b5' : 3.0, 'd1' : 3.5, 'd2' : 2.0, 'd3' : 2.0, 'd4' : 30.0, 'd5' : 3.0, 'd6' : 4.75, 'd7' : 8.75},\n",
        "              'Tx62' : {'D' : 62.0, 'b1' : 42.0, 'b2' : 7.0, 'b3' : 32.0, 'b4' : 2.0, 'b5' : 3.0, 'd1' : 3.5, 'd2' : 2.5, 'd3' : 2.0, 'd4' : 37.5, 'd5' : 3.0, 'd6' : 4.75, 'd7' : 8.75},\n",
        "              'Tx70' : {'D' : 70.0, 'b1' : 42.0, 'b2' : 7.0, 'b3' : 32.0, 'b4' : 2.0, 'b5' : 3.0, 'd1' : 3.5, 'd2' : 2.5, 'd3' : 2.0, 'd4' : 45.5, 'd5' : 3.0, 'd6' : 4.75, 'd7' : 8.75},\n",
        "              'Tx84' : {'D' : 84.0, 'b1' : 58.0, 'b2' : 8.0, 'b3' : 38.0, 'b4' : 3.0, 'b5' : 3.0, 'd1' : 4.0, 'd2' : 3.5, 'd3' : 3.0, 'd4' : 55.75, 'd5' : 3.0, 'd6' : 6.0, 'd7' : 8.75}\n",
        "              }\n",
        "\n",
        "# bridge geometry data\n",
        "L = df['L']/12 # span length in ft.\n",
        "S = df['S']/12 # girder spacing in ft.\n",
        "w_oh = df['w_oh']/12 # overhang width in ft.\n",
        "ts = df['ts_U']/12 # thickness of overhang in ft.\n",
        "girder = df['Girder Type']\n",
        "D = []\n",
        "for _, girder_type in girder.items():\n",
        "  D.append(tx_girders[girder_type]['D'])\n",
        "df['D'] = D\n",
        "\n",
        "# intensity of railing dead load in kip/ft\n",
        "b_rail = df['b_rail_left'] # width of railing\n",
        "q_rail = (df['q_rail_left'] * b_rail * 12)/1000\n",
        "\n",
        "# max bending moment in exterior girder G1 & interior girder G2 in kip-ft\n",
        "bm1 = df['G1 - max_bm']/(1000*12)\n",
        "bm2 = df['G2 - max_bm']/(1000*12)\n",
        "bm3 = df['G3 - max_bm']/(1000*12)\n",
        "bm4 = df['G4 - max_bm']/(1000*12)\n",
        "\n",
        "# reaction in girders G1 & G2 in kip. (only A1 taken due to symmetry)\n",
        "r1 = df['G1-A1-Y']/1000\n",
        "r2 = df['G2-A1-Y']/1000\n",
        "r3 = df['G3-A1-Y']/1000\n",
        "r4 = df['G4-A1-Y']/1000\n",
        "\n",
        "# line analysis with full railing load assumed to be applied on a girder\n",
        "bm_line = q_rail * (L - 2*9/12)**2 / 8\n",
        "r_line = q_rail * L / 2\n",
        "\n",
        "\n",
        "# normalizing bending moments with respect to line analysis\n",
        "n_bm1 = bm1 / bm_line\n",
        "n_bm2 = bm2 / bm_line\n",
        "n_bm3 = bm3 / bm_line\n",
        "n_bm4 = bm4 / bm_line\n",
        "\n",
        "# normalizing vertical reactions with respect to line analysis\n",
        "n_r1 = r1 / r_line\n",
        "n_r2 = r2 / r_line\n",
        "n_r3 = r3 / r_line\n",
        "n_r4 = r4 / r_line\n",
        "\n",
        "# add the distribution factors to the dataframe\n",
        "df['n_bm1'] = n_bm1\n",
        "df['n_bm2'] = n_bm2\n",
        "df['n_bm3'] = n_bm3\n",
        "df['n_bm4'] = n_bm4\n",
        "df['n_r1'] = n_r1\n",
        "df['n_r2'] = n_r2\n",
        "df['n_r3'] = n_r3\n",
        "df['n_r4'] = n_r4"
      ],
      "id": "lz-PV9nVGREp"
    },
    {
      "cell_type": "code",
      "execution_count": null,
      "metadata": {
        "execution": {
          "iopub.execute_input": "2022-07-06T00:43:54.847201Z",
          "iopub.status.busy": "2022-07-06T00:43:54.846876Z",
          "iopub.status.idle": "2022-07-06T00:43:54.851460Z",
          "shell.execute_reply": "2022-07-06T00:43:54.850804Z"
        },
        "id": "M16U5vbpGREq"
      },
      "outputs": [],
      "source": [
        "X = np.stack((L, S, w_oh, ts, D), axis=-1)  # First column is x, second is y"
      ],
      "id": "M16U5vbpGREq"
    },
    {
      "cell_type": "code",
      "execution_count": null,
      "metadata": {
        "colab": {
          "base_uri": "https://localhost:8080/",
          "height": 452
        },
        "id": "CANNndYUGREr",
        "outputId": "4ab87558-cbfb-44e3-8e61-a8b95b921c11"
      },
      "outputs": [
        {
          "output_type": "execute_result",
          "data": {
            "text/plain": [
              "<matplotlib.legend.Legend at 0x792251f2b4c0>"
            ]
          },
          "metadata": {},
          "execution_count": 5
        },
        {
          "output_type": "display_data",
          "data": {
            "text/plain": [
              "<Figure size 640x480 with 1 Axes>"
            ],
            "image/png": "[encoded data removed]"
          },
          "metadata": {}
        }
      ],
      "source": [
        "plt.scatter(L, n_bm1, label=\"G1\")\n",
        "plt.scatter(L, n_bm2, label=\"G2\")\n",
        "plt.legend()"
      ],
      "id": "CANNndYUGREr"
    },
    {
      "cell_type": "code",
      "execution_count": null,
      "metadata": {
        "execution": {
          "iopub.execute_input": "2022-07-06T00:43:54.854815Z",
          "iopub.status.busy": "2022-07-06T00:43:54.854544Z",
          "iopub.status.idle": "2022-07-06T00:43:54.858256Z",
          "shell.execute_reply": "2022-07-06T00:43:54.857631Z"
        },
        "colab": {
          "base_uri": "https://localhost:8080/",
          "height": 261
        },
        "id": "aIY_rkVZGREs",
        "outputId": "d4b73c01-a58c-4505-c9cd-005fc7e5987b"
      },
      "outputs": [
        {
          "output_type": "stream",
          "name": "stderr",
          "text": [
            "/usr/local/lib/python3.10/dist-packages/pysindy/optimizers/stlsq.py:201: UserWarning: Sparsity parameter is too big (0.2) and eliminated all coefficients\n",
            "  warnings.warn(\n",
            "/usr/local/lib/python3.10/dist-packages/pysindy/optimizers/stlsq.py:201: UserWarning: Sparsity parameter is too big (0.2) and eliminated all coefficients\n",
            "  warnings.warn(\n",
            "/usr/local/lib/python3.10/dist-packages/pysindy/optimizers/stlsq.py:201: UserWarning: Sparsity parameter is too big (0.2) and eliminated all coefficients\n",
            "  warnings.warn(\n",
            "/usr/local/lib/python3.10/dist-packages/pysindy/optimizers/stlsq.py:201: UserWarning: Sparsity parameter is too big (0.2) and eliminated all coefficients\n",
            "  warnings.warn(\n"
          ]
        },
        {
          "output_type": "execute_result",
          "data": {
            "text/plain": [
              "SINDy(differentiation_method=FiniteDifference(),\n",
              "      feature_library=PolynomialLibrary(degree=3),\n",
              "      feature_names=['L', 'S', 'w_oh', 'ts', 'D'],\n",
              "      optimizer=STLSQ(threshold=0.2))"
            ],
            "text/html": [
              "<style>#sk-container-id-1 {color: black;background-color: white;}#sk-container-id-1 pre{padding: 0;}#sk-container-id-1 div.sk-toggleable {background-color: white;}#sk-container-id-1 label.sk-toggleable__label {cursor: pointer;display: block;width: 100%;margin-bottom: 0;padding: 0.3em;box-sizing: border-box;text-align: center;}#sk-container-id-1 label.sk-toggleable__label-arrow:before {content: \"▸\";float: left;margin-right: 0.25em;color: #696969;}#sk-container-id-1 label.sk-toggleable__label-arrow:hover:before {color: black;}#sk-container-id-1 div.sk-estimator:hover label.sk-toggleable__label-arrow:before {color: black;}#sk-container-id-1 div.sk-toggleable__content {max-height: 0;max-width: 0;overflow: hidden;text-align: left;background-color: #f0f8ff;}#sk-container-id-1 div.sk-toggleable__content pre {margin: 0.2em;color: black;border-radius: 0.25em;background-color: #f0f8ff;}#sk-container-id-1 input.sk-toggleable__control:checked~div.sk-toggleable__content {max-height: 200px;max-width: 100%;overflow: auto;}#sk-container-id-1 input.sk-toggleable__control:checked~label.sk-toggleable__label-arrow:before {content: \"▾\";}#sk-container-id-1 div.sk-estimator input.sk-toggleable__control:checked~label.sk-toggleable__label {background-color: #d4ebff;}#sk-container-id-1 div.sk-label input.sk-toggleable__control:checked~label.sk-toggleable__label {background-color: #d4ebff;}#sk-container-id-1 input.sk-hidden--visually {border: 0;clip: rect(1px 1px 1px 1px);clip: rect(1px, 1px, 1px, 1px);height: 1px;margin: -1px;overflow: hidden;padding: 0;position: absolute;width: 1px;}#sk-container-id-1 div.sk-estimator {font-family: monospace;background-color: #f0f8ff;border: 1px dotted black;border-radius: 0.25em;box-sizing: border-box;margin-bottom: 0.5em;}#sk-container-id-1 div.sk-estimator:hover {background-color: #d4ebff;}#sk-container-id-1 div.sk-parallel-item::after {content: \"\";width: 100%;border-bottom: 1px solid gray;flex-grow: 1;}#sk-container-id-1 div.sk-label:hover label.sk-toggleable__label {background-color: #d4ebff;}#sk-container-id-1 div.sk-serial::before {content: \"\";position: absolute;border-left: 1px solid gray;box-sizing: border-box;top: 0;bottom: 0;left: 50%;z-index: 0;}#sk-container-id-1 div.sk-serial {display: flex;flex-direction: column;align-items: center;background-color: white;padding-right: 0.2em;padding-left: 0.2em;position: relative;}#sk-container-id-1 div.sk-item {position: relative;z-index: 1;}#sk-container-id-1 div.sk-parallel {display: flex;align-items: stretch;justify-content: center;background-color: white;position: relative;}#sk-container-id-1 div.sk-item::before, #sk-container-id-1 div.sk-parallel-item::before {content: \"\";position: absolute;border-left: 1px solid gray;box-sizing: border-box;top: 0;bottom: 0;left: 50%;z-index: -1;}#sk-container-id-1 div.sk-parallel-item {display: flex;flex-direction: column;z-index: 1;position: relative;background-color: white;}#sk-container-id-1 div.sk-parallel-item:first-child::after {align-self: flex-end;width: 50%;}#sk-container-id-1 div.sk-parallel-item:last-child::after {align-self: flex-start;width: 50%;}#sk-container-id-1 div.sk-parallel-item:only-child::after {width: 0;}#sk-container-id-1 div.sk-dashed-wrapped {border: 1px dashed gray;margin: 0 0.4em 0.5em 0.4em;box-sizing: border-box;padding-bottom: 0.4em;background-color: white;}#sk-container-id-1 div.sk-label label {font-family: monospace;font-weight: bold;display: inline-block;line-height: 1.2em;}#sk-container-id-1 div.sk-label-container {text-align: center;}#sk-container-id-1 div.sk-container {/* jupyter's `normalize.less` sets `[hidden] { display: none; }` but bootstrap.min.css set `[hidden] { display: none !important; }` so we also need the `!important` here to be able to override the default hidden behavior on the sphinx rendered scikit-learn.org. See: https://github.com/scikit-learn/scikit-learn/issues/21755 */display: inline-block !important;position: relative;}#sk-container-id-1 div.sk-text-repr-fallback {display: none;}</style><div id=\"sk-container-id-1\" class=\"sk-top-container\"><div class=\"sk-text-repr-fallback\"><pre>SINDy(differentiation_method=FiniteDifference(),\n",
              "      feature_library=PolynomialLibrary(degree=3),\n",
              "      feature_names=[&#x27;L&#x27;, &#x27;S&#x27;, &#x27;w_oh&#x27;, &#x27;ts&#x27;, &#x27;D&#x27;],\n",
              "      optimizer=STLSQ(threshold=0.2))</pre><b>In a Jupyter environment, please rerun this cell to show the HTML representation or trust the notebook. <br />On GitHub, the HTML representation is unable to render, please try loading this page with nbviewer.org.</b></div><div class=\"sk-container\" hidden><div class=\"sk-item sk-dashed-wrapped\"><div class=\"sk-label-container\"><div class=\"sk-label sk-toggleable\"><input class=\"sk-toggleable__control sk-hidden--visually\" id=\"sk-estimator-id-1\" type=\"checkbox\" ><label for=\"sk-estimator-id-1\" class=\"sk-toggleable__label sk-toggleable__label-arrow\">SINDy</label><div class=\"sk-toggleable__content\"><pre>SINDy(differentiation_method=FiniteDifference(),\n",
              "      feature_library=PolynomialLibrary(degree=3),\n",
              "      feature_names=[&#x27;L&#x27;, &#x27;S&#x27;, &#x27;w_oh&#x27;, &#x27;ts&#x27;, &#x27;D&#x27;],\n",
              "      optimizer=STLSQ(threshold=0.2))</pre></div></div></div><div class=\"sk-parallel\"><div class=\"sk-parallel-item\"><div class=\"sk-item\"><div class=\"sk-label-container\"><div class=\"sk-label sk-toggleable\"><input class=\"sk-toggleable__control sk-hidden--visually\" id=\"sk-estimator-id-2\" type=\"checkbox\" ><label for=\"sk-estimator-id-2\" class=\"sk-toggleable__label sk-toggleable__label-arrow\">feature_library: PolynomialLibrary</label><div class=\"sk-toggleable__content\"><pre>PolynomialLibrary(degree=3)</pre></div></div></div><div class=\"sk-serial\"><div class=\"sk-item\"><div class=\"sk-estimator sk-toggleable\"><input class=\"sk-toggleable__control sk-hidden--visually\" id=\"sk-estimator-id-3\" type=\"checkbox\" ><label for=\"sk-estimator-id-3\" class=\"sk-toggleable__label sk-toggleable__label-arrow\">PolynomialLibrary</label><div class=\"sk-toggleable__content\"><pre>PolynomialLibrary(degree=3)</pre></div></div></div></div></div></div><div class=\"sk-parallel-item\"><div class=\"sk-item\"><div class=\"sk-label-container\"><div class=\"sk-label sk-toggleable\"><input class=\"sk-toggleable__control sk-hidden--visually\" id=\"sk-estimator-id-4\" type=\"checkbox\" ><label for=\"sk-estimator-id-4\" class=\"sk-toggleable__label sk-toggleable__label-arrow\">optimizer: STLSQ</label><div class=\"sk-toggleable__content\"><pre>STLSQ(threshold=0.2)</pre></div></div></div><div class=\"sk-serial\"><div class=\"sk-item\"><div class=\"sk-estimator sk-toggleable\"><input class=\"sk-toggleable__control sk-hidden--visually\" id=\"sk-estimator-id-5\" type=\"checkbox\" ><label for=\"sk-estimator-id-5\" class=\"sk-toggleable__label sk-toggleable__label-arrow\">STLSQ</label><div class=\"sk-toggleable__content\"><pre>STLSQ(threshold=0.2)</pre></div></div></div></div></div></div></div></div></div></div>"
            ]
          },
          "metadata": {},
          "execution_count": 7
        }
      ],
      "source": [
        "differentiation_method = ps.differentiation.FiniteDifference(order=2)\n",
        "feature_library = ps.feature_library.PolynomialLibrary(degree=3)\n",
        "optimizer = ps.optimizers.STLSQ(threshold=0.2)\n",
        "\n",
        "model = ps.SINDy(\n",
        "    differentiation_method=differentiation_method,\n",
        "    feature_library=feature_library,\n",
        "    optimizer=optimizer,\n",
        "    feature_names=[\"L\", \"S\",  \"w_oh\", \"ts\", \"D\"],\n",
        ")\n",
        "\n",
        "model.fit(X)"
      ],
      "id": "aIY_rkVZGREs"
    },
    {
      "cell_type": "code",
      "execution_count": null,
      "metadata": {
        "colab": {
          "base_uri": "https://localhost:8080/"
        },
        "id": "o4WmYl4QGREv",
        "outputId": "bab69585-6799-42a3-93fb-a974222ea599"
      },
      "outputs": [
        {
          "output_type": "stream",
          "name": "stdout",
          "text": [
            "Features in the Polynomial Library:\n",
            "['1', 'L', 'S', 'w_oh', 'ts', 'D', 'L^2', 'L S', 'L w_oh', 'L ts', 'L D', 'S^2', 'S w_oh', 'S ts', 'S D', 'w_oh^2', 'w_oh ts', 'w_oh D', 'ts^2', 'ts D', 'D^2', 'L^3', 'L^2 S', 'L^2 w_oh', 'L^2 ts', 'L^2 D', 'L S^2', 'L S w_oh', 'L S ts', 'L S D', 'L w_oh^2', 'L w_oh ts', 'L w_oh D', 'L ts^2', 'L ts D', 'L D^2', 'S^3', 'S^2 w_oh', 'S^2 ts', 'S^2 D', 'S w_oh^2', 'S w_oh ts', 'S w_oh D', 'S ts^2', 'S ts D', 'S D^2', 'w_oh^3', 'w_oh^2 ts', 'w_oh^2 D', 'w_oh ts^2', 'w_oh ts D', 'w_oh D^2', 'ts^3', 'ts^2 D', 'ts D^2', 'D^3']\n",
            "[[-9.91521990e+10  0.00000000e+00  0.00000000e+00 -6.42204801e+11\n",
            "   2.58962214e+11  0.00000000e+00  0.00000000e+00  0.00000000e+00\n",
            "   0.00000000e+00  0.00000000e+00  0.00000000e+00  0.00000000e+00\n",
            "   0.00000000e+00 -4.61547852e-01  0.00000000e+00  3.25988770e-01\n",
            "   1.67728783e+12  0.00000000e+00 -1.67975490e+11  0.00000000e+00\n",
            "   0.00000000e+00  0.00000000e+00  0.00000000e+00  0.00000000e+00\n",
            "   0.00000000e+00  0.00000000e+00  0.00000000e+00  0.00000000e+00\n",
            "   0.00000000e+00  0.00000000e+00  0.00000000e+00  0.00000000e+00\n",
            "   0.00000000e+00  0.00000000e+00  0.00000000e+00  0.00000000e+00\n",
            "   0.00000000e+00  0.00000000e+00  0.00000000e+00  0.00000000e+00\n",
            "   0.00000000e+00  2.15698242e-01  0.00000000e+00  0.00000000e+00\n",
            "   0.00000000e+00  0.00000000e+00  0.00000000e+00  0.00000000e+00\n",
            "   0.00000000e+00 -1.08797049e+12  0.00000000e+00  0.00000000e+00\n",
            "   0.00000000e+00  0.00000000e+00  0.00000000e+00  0.00000000e+00]\n",
            " [ 2.71998256e+11  0.00000000e+00  0.00000000e+00  0.00000000e+00\n",
            "  -4.26159653e+11  0.00000000e+00  0.00000000e+00  0.00000000e+00\n",
            "   0.00000000e+00  0.00000000e+00  0.00000000e+00  0.00000000e+00\n",
            "   0.00000000e+00  9.15954590e-01  0.00000000e+00  0.00000000e+00\n",
            "   0.00000000e+00  0.00000000e+00 -2.81559967e+11  0.00000000e+00\n",
            "   0.00000000e+00  0.00000000e+00  0.00000000e+00  0.00000000e+00\n",
            "   0.00000000e+00  0.00000000e+00  0.00000000e+00  0.00000000e+00\n",
            "   0.00000000e+00  0.00000000e+00  0.00000000e+00  0.00000000e+00\n",
            "   0.00000000e+00  0.00000000e+00  0.00000000e+00  0.00000000e+00\n",
            "   0.00000000e+00  0.00000000e+00  0.00000000e+00  0.00000000e+00\n",
            "   0.00000000e+00  0.00000000e+00  0.00000000e+00 -1.20071411e+00\n",
            "   0.00000000e+00  0.00000000e+00  0.00000000e+00  0.00000000e+00\n",
            "   0.00000000e+00  0.00000000e+00  0.00000000e+00  0.00000000e+00\n",
            "   4.81528873e+11  0.00000000e+00  0.00000000e+00  0.00000000e+00]\n",
            " [-1.10461596e+01  0.00000000e+00 -3.78580415e-02  8.57428435e+00\n",
            "   0.00000000e+00  0.00000000e+00  0.00000000e+00  0.00000000e+00\n",
            "   0.00000000e+00  0.00000000e+00  0.00000000e+00  0.00000000e+00\n",
            "   2.20884919e-02  0.00000000e+00  0.00000000e+00 -1.46957435e+00\n",
            "  -1.05698291e+00  0.00000000e+00  4.96122298e+00  0.00000000e+00\n",
            "   0.00000000e+00  0.00000000e+00  0.00000000e+00  0.00000000e+00\n",
            "   0.00000000e+00  0.00000000e+00  0.00000000e+00  0.00000000e+00\n",
            "   0.00000000e+00  0.00000000e+00  0.00000000e+00  0.00000000e+00\n",
            "   0.00000000e+00  0.00000000e+00  0.00000000e+00  0.00000000e+00\n",
            "   0.00000000e+00  0.00000000e+00  0.00000000e+00  0.00000000e+00\n",
            "   0.00000000e+00 -2.60162549e-02  0.00000000e+00  5.38261010e-02\n",
            "   0.00000000e+00  0.00000000e+00  0.00000000e+00  9.11076831e-01\n",
            "   0.00000000e+00 -6.69072483e+00  0.00000000e+00  0.00000000e+00\n",
            "   8.24549697e+00  0.00000000e+00  0.00000000e+00  0.00000000e+00]\n",
            " [ 0.00000000e+00  0.00000000e+00  0.00000000e+00  0.00000000e+00\n",
            "   0.00000000e+00  0.00000000e+00  0.00000000e+00  0.00000000e+00\n",
            "   0.00000000e+00  0.00000000e+00  0.00000000e+00  0.00000000e+00\n",
            "   0.00000000e+00  0.00000000e+00  0.00000000e+00  0.00000000e+00\n",
            "   0.00000000e+00  0.00000000e+00  0.00000000e+00  0.00000000e+00\n",
            "   0.00000000e+00  0.00000000e+00  0.00000000e+00  0.00000000e+00\n",
            "   0.00000000e+00  0.00000000e+00  0.00000000e+00  0.00000000e+00\n",
            "   0.00000000e+00  0.00000000e+00  0.00000000e+00  0.00000000e+00\n",
            "   0.00000000e+00  0.00000000e+00  0.00000000e+00  0.00000000e+00\n",
            "   0.00000000e+00  0.00000000e+00  0.00000000e+00  0.00000000e+00\n",
            "   0.00000000e+00  0.00000000e+00  0.00000000e+00  0.00000000e+00\n",
            "   0.00000000e+00  0.00000000e+00  0.00000000e+00  0.00000000e+00\n",
            "   0.00000000e+00  0.00000000e+00  0.00000000e+00  0.00000000e+00\n",
            "   0.00000000e+00  0.00000000e+00  0.00000000e+00  0.00000000e+00]\n",
            " [ 0.00000000e+00  0.00000000e+00  0.00000000e+00  0.00000000e+00\n",
            "   0.00000000e+00  0.00000000e+00  0.00000000e+00  0.00000000e+00\n",
            "   0.00000000e+00  0.00000000e+00  0.00000000e+00  0.00000000e+00\n",
            "   0.00000000e+00  0.00000000e+00  0.00000000e+00  0.00000000e+00\n",
            "   0.00000000e+00  0.00000000e+00  0.00000000e+00  0.00000000e+00\n",
            "   0.00000000e+00  0.00000000e+00  0.00000000e+00  0.00000000e+00\n",
            "   0.00000000e+00  0.00000000e+00  0.00000000e+00  0.00000000e+00\n",
            "   0.00000000e+00  0.00000000e+00  0.00000000e+00  0.00000000e+00\n",
            "   0.00000000e+00  0.00000000e+00  0.00000000e+00  0.00000000e+00\n",
            "   0.00000000e+00  0.00000000e+00  0.00000000e+00  0.00000000e+00\n",
            "   0.00000000e+00  0.00000000e+00  0.00000000e+00  0.00000000e+00\n",
            "   0.00000000e+00  0.00000000e+00  0.00000000e+00  0.00000000e+00\n",
            "   0.00000000e+00  0.00000000e+00  0.00000000e+00  0.00000000e+00\n",
            "   0.00000000e+00  0.00000000e+00  0.00000000e+00  0.00000000e+00]]\n",
            "(L)' = -99152198984.648 1 + -642204801470.605 w_oh + 258962213828.907 ts + -0.462 S ts + 0.326 w_oh^2 + 1677287834422.557 w_oh ts + -167975490049.526 ts^2 + 0.216 S w_oh ts + -1087970487193.864 w_oh ts^2\n",
            "(S)' = 271998256451.590 1 + -426159652989.753 ts + 0.916 S ts + -281559966803.127 ts^2 + -1.201 S ts^2 + 481528873321.737 ts^3\n",
            "(w_oh)' = -11.046 1 + -0.038 S + 8.574 w_oh + 0.022 S w_oh + -1.470 w_oh^2 + -1.057 w_oh ts + 4.961 ts^2 + -0.026 S w_oh ts + 0.054 S ts^2 + 0.911 w_oh^2 ts + -6.691 w_oh ts^2 + 8.245 ts^3\n",
            "(ts)' = 0.000\n",
            "(D)' = 0.000\n"
          ]
        }
      ],
      "source": [
        "feature_names = feature_library.get_feature_names(input_features=['L', 'S', 'w_oh', 'ts', 'D'])\n",
        "\n",
        "print(\"Features in the Polynomial Library:\")\n",
        "print(feature_names)\n",
        "\n",
        "coefficients = model.optimizer.coef_\n",
        "print(coefficients)\n",
        "\n",
        "model.print()"
      ],
      "id": "o4WmYl4QGREv"
    },
    {
      "cell_type": "code",
      "execution_count": null,
      "metadata": {
        "execution": {
          "iopub.execute_input": "2022-07-06T00:43:54.916864Z",
          "iopub.status.busy": "2022-07-06T00:43:54.916596Z",
          "iopub.status.idle": "2022-07-06T00:43:54.998927Z",
          "shell.execute_reply": "2022-07-06T00:43:54.998241Z"
        },
        "id": "Ek__Syn4GREx",
        "colab": {
          "base_uri": "https://localhost:8080/",
          "height": 179
        },
        "outputId": "35780b07-3902-4f7c-e7bd-d751e2f26b60"
      },
      "outputs": [
        {
          "output_type": "error",
          "ename": "TypeError",
          "evalue": "ignored",
          "traceback": [
            "\u001b[0;31m---------------------------------------------------------------------------\u001b[0m",
            "\u001b[0;31mTypeError\u001b[0m                                 Traceback (most recent call last)",
            "\u001b[0;32m<ipython-input-10-6817a9d47848>\u001b[0m in \u001b[0;36m<cell line: 1>\u001b[0;34m()\u001b[0m\n\u001b[0;32m----> 1\u001b[0;31m \u001b[0msim\u001b[0m \u001b[0;34m=\u001b[0m \u001b[0mmodel\u001b[0m\u001b[0;34m.\u001b[0m\u001b[0msimulate\u001b[0m\u001b[0;34m(\u001b[0m\u001b[0;34m[\u001b[0m\u001b[0mL\u001b[0m\u001b[0;34m,\u001b[0m \u001b[0mS\u001b[0m\u001b[0;34m,\u001b[0m \u001b[0mw_oh\u001b[0m\u001b[0;34m,\u001b[0m \u001b[0mts\u001b[0m\u001b[0;34m,\u001b[0m \u001b[0mD\u001b[0m\u001b[0;34m]\u001b[0m\u001b[0;34m)\u001b[0m\u001b[0;34m\u001b[0m\u001b[0;34m\u001b[0m\u001b[0m\n\u001b[0m",
            "\u001b[0;31mTypeError\u001b[0m: SINDy.simulate() missing 1 required positional argument: 't'"
          ]
        }
      ],
      "source": [
        "sim = model.simulate([L, S, w_oh, ts, D])"
      ],
      "id": "Ek__Syn4GREx"
    },
    {
      "cell_type": "code",
      "execution_count": null,
      "metadata": {
        "execution": {
          "iopub.execute_input": "2022-07-06T00:43:55.002231Z",
          "iopub.status.busy": "2022-07-06T00:43:55.001900Z",
          "iopub.status.idle": "2022-07-06T00:43:55.718332Z",
          "shell.execute_reply": "2022-07-06T00:43:55.717415Z"
        },
        "id": "COpHdswRGREx"
      },
      "outputs": [],
      "source": [
        "import matplotlib.pyplot as plt\n",
        "plt.ion()\n",
        "\n",
        "plt.figure()\n",
        "plt.plot(x0, y0, \"ro\", label=\"Initial condition\", alpha=0.6, markersize=8)\n",
        "plt.plot(x_test, y_test, \"b\", label=\"Exact solution\", alpha=0.4, linewidth=4)\n",
        "plt.plot(sim[:, 0], sim[:, 1], \"k--\", label=\"SINDy model\", linewidth=3)\n",
        "plt.xlabel(\"x\")\n",
        "plt.ylabel(\"y\")\n",
        "plt.legend()\n",
        "plt.show()"
      ],
      "id": "COpHdswRGREx"
    },
    {
      "cell_type": "code",
      "source": [
        "import numpy as np\n",
        "\n",
        "X = 2 * np.random.randn(100, 5)\n",
        "y = 2.5382 * np.cos(X[:, 3]) + X[:, 0] ** 2 - 0.5\n",
        "\n",
        "from pysr import PySRRegressor\n",
        "\n",
        "model = PySRRegressor(\n",
        "    model_selection=\"best\",  # Result is mix of simplicity+accuracy\n",
        "    niterations=40,\n",
        "    binary_operators=[\"+\", \"*\"],\n",
        "    unary_operators=[\n",
        "        \"cos\",\n",
        "        \"exp\",\n",
        "        \"sin\",\n",
        "        \"inv(x) = 1/x\",\n",
        "        # ^ Custom operator (julia syntax)\n",
        "    ],\n",
        "    extra_sympy_mappings={\"inv\": lambda x: 1 / x},\n",
        "    # ^ Define operator for SymPy as well\n",
        "    loss=\"loss(x, y) = (x - y)^2\",\n",
        "    # ^ Custom loss function (julia syntax)\n",
        ")\n",
        "\n",
        "model.fit(X, y)\n",
        "\n",
        "print(model)"
      ],
      "metadata": {
        "id": "y7BuV8zexXeU",
        "outputId": "06dbb041-2326-4604-de5f-07e16dfcaf63",
        "colab": {
          "base_uri": "https://localhost:8080/",
          "height": 385
        }
      },
      "id": "y7BuV8zexXeU",
      "execution_count": 1,
      "outputs": [
        {
          "output_type": "error",
          "ename": "ModuleNotFoundError",
          "evalue": "ignored",
          "traceback": [
            "\u001b[0;31m---------------------------------------------------------------------------\u001b[0m",
            "\u001b[0;31mModuleNotFoundError\u001b[0m                       Traceback (most recent call last)",
            "\u001b[0;32m<ipython-input-1-3bf3098be61d>\u001b[0m in \u001b[0;36m<cell line: 6>\u001b[0;34m()\u001b[0m\n\u001b[1;32m      4\u001b[0m \u001b[0my\u001b[0m \u001b[0;34m=\u001b[0m \u001b[0;36m2.5382\u001b[0m \u001b[0;34m*\u001b[0m \u001b[0mnp\u001b[0m\u001b[0;34m.\u001b[0m\u001b[0mcos\u001b[0m\u001b[0;34m(\u001b[0m\u001b[0mX\u001b[0m\u001b[0;34m[\u001b[0m\u001b[0;34m:\u001b[0m\u001b[0;34m,\u001b[0m \u001b[0;36m3\u001b[0m\u001b[0;34m]\u001b[0m\u001b[0;34m)\u001b[0m \u001b[0;34m+\u001b[0m \u001b[0mX\u001b[0m\u001b[0;34m[\u001b[0m\u001b[0;34m:\u001b[0m\u001b[0;34m,\u001b[0m \u001b[0;36m0\u001b[0m\u001b[0;34m]\u001b[0m \u001b[0;34m**\u001b[0m \u001b[0;36m2\u001b[0m \u001b[0;34m-\u001b[0m \u001b[0;36m0.5\u001b[0m\u001b[0;34m\u001b[0m\u001b[0;34m\u001b[0m\u001b[0m\n\u001b[1;32m      5\u001b[0m \u001b[0;34m\u001b[0m\u001b[0m\n\u001b[0;32m----> 6\u001b[0;31m \u001b[0;32mfrom\u001b[0m \u001b[0mpysr\u001b[0m \u001b[0;32mimport\u001b[0m \u001b[0mPySRRegressor\u001b[0m\u001b[0;34m\u001b[0m\u001b[0;34m\u001b[0m\u001b[0m\n\u001b[0m\u001b[1;32m      7\u001b[0m \u001b[0;34m\u001b[0m\u001b[0m\n\u001b[1;32m      8\u001b[0m model = PySRRegressor(\n",
            "\u001b[0;31mModuleNotFoundError\u001b[0m: No module named 'pysr'",
            "",
            "\u001b[0;31m---------------------------------------------------------------------------\u001b[0;32m\nNOTE: If your import is failing due to a missing package, you can\nmanually install dependencies using either !pip or !apt.\n\nTo view examples of installing some common dependencies, click the\n\"Open Examples\" button below.\n\u001b[0;31m---------------------------------------------------------------------------\u001b[0m\n"
          ],
          "errorDetails": {
            "actions": [
              {
                "action": "open_url",
                "actionText": "Open Examples",
                "url": "/notebooks/snippets/importing_libraries.ipynb"
              }
            ]
          }
        }
      ]
    }
  ],
  "metadata": {
    "jupytext": {
      "cell_metadata_filter": "-all",
      "main_language": "python",
      "notebook_metadata_filter": "-all"
    },
    "kernelspec": {
      "display_name": "Python 3",
      "language": "python",
      "name": "python3"
    },
    "language_info": {
      "codemirror_mode": {
        "name": "ipython",
        "version": 3
      },
      "file_extension": ".py",
      "mimetype": "text/x-python",
      "name": "python",
      "nbconvert_exporter": "python",
      "pygments_lexer": "ipython3",
      "version": "3.11.4"
    },
    "colab": {
      "provenance": [],
      "include_colab_link": true
    }
  },
  "nbformat": 4,
  "nbformat_minor": 5
}